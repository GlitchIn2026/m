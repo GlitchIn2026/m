{
 "cells": [
  {
   "cell_type": "code",
   "execution_count": 1,
   "id": "27ec2318-1fcf-42dd-8adb-a496fa544cf2",
   "metadata": {},
   "outputs": [],
   "source": [
    "import numpy as np\n",
    "import pandas as pd\n",
    "from sklearn.neighbors import KNeighborsClassifier\n",
    "from sklearn.metrics import accuracy_score"
   ]
  },
  {
   "cell_type": "code",
   "execution_count": 3,
   "id": "960bf32a-697b-47b8-8e6b-1fd51d2c9b2a",
   "metadata": {},
   "outputs": [],
   "source": [
    "np.random.seed(42)\n",
    "values = np.random.rand(100)"
   ]
  },
  {
   "cell_type": "code",
   "execution_count": 5,
   "id": "dfa0ad86-4212-49de-b453-718142a8ccb3",
   "metadata": {},
   "outputs": [],
   "source": [
    "labels = ['Class1' if x <= 0.5 else 'Class2' for x in values[:50]] + [None] * 50"
   ]
  },
  {
   "cell_type": "code",
   "execution_count": 7,
   "id": "f72b02eb-d2be-4f7b-8856-3ab12d0cd184",
   "metadata": {},
   "outputs": [],
   "source": [
    "df = pd.DataFrame({\n",
    "    \"Value\": values,\n",
    "    \"Label\": labels\n",
    "})"
   ]
  },
  {
   "cell_type": "code",
   "execution_count": 9,
   "id": "ce0d98e1-e5b5-4cdc-9338-289f26307dd3",
   "metadata": {},
   "outputs": [],
   "source": [
    "X_train = df.iloc[:50][[\"Value\"]]\n",
    "y_train = df.iloc[:50][\"Label\"]\n",
    "X_test = df.iloc[50:][[\"Value\"]]\n",
    "true_labels = ['Class1' if x <= 0.5 else 'Class2' for x in values[50:]]"
   ]
  },
  {
   "cell_type": "code",
   "execution_count": 11,
   "id": "783ad5bd-4e1a-4889-8923-1db2f34b62e6",
   "metadata": {},
   "outputs": [
    {
     "name": "stdout",
     "output_type": "stream",
     "text": [
      "Accuracy for k=1: 100.00%\n",
      "Accuracy for k=2: 100.00%\n",
      "Accuracy for k=3: 98.00%\n",
      "Accuracy for k=4: 98.00%\n",
      "Accuracy for k=5: 98.00%\n",
      "Accuracy for k=20: 98.00%\n",
      "Accuracy for k=30: 100.00%\n"
     ]
    }
   ],
   "source": [
    "k_values = [1, 2, 3, 4, 5, 20, 30]\n",
    "for k in k_values:\n",
    "    knn = KNeighborsClassifier(n_neighbors=k)\n",
    "    knn.fit(X_train, y_train)\n",
    "    predictions = knn.predict(X_test)\n",
    "    acc = accuracy_score(true_labels, predictions)\n",
    "    print(f\"Accuracy for k={k}: {acc * 100:.2f}%\")"
   ]
  },
  {
   "cell_type": "code",
   "execution_count": null,
   "id": "149dd480-508e-4b0c-aced-01c20451396b",
   "metadata": {},
   "outputs": [],
   "source": []
  }
 ],
 "metadata": {
  "kernelspec": {
   "display_name": "Python 3 (ipykernel)",
   "language": "python",
   "name": "python3"
  },
  "language_info": {
   "codemirror_mode": {
    "name": "ipython",
    "version": 3
   },
   "file_extension": ".py",
   "mimetype": "text/x-python",
   "name": "python",
   "nbconvert_exporter": "python",
   "pygments_lexer": "ipython3",
   "version": "3.11.7"
  }
 },
 "nbformat": 4,
 "nbformat_minor": 5
}
