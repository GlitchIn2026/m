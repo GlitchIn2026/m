{
 "cells": [
  {
   "cell_type": "code",
   "execution_count": 1,
   "id": "91ea877e-9cf1-43f5-bb41-5a426941a9ed",
   "metadata": {},
   "outputs": [],
   "source": [
    "import pandas as pd"
   ]
  },
  {
   "cell_type": "code",
   "execution_count": 5,
   "id": "313c3bc3-aa0d-4884-b918-6abfc992baa7",
   "metadata": {},
   "outputs": [],
   "source": [
    "data = pd.read_csv(r\"C:\\Users\\PRAJWAL\\Desktop\\6th SEM\\ML\\ML-Lab\\ML_Lab_datasets\\Find_S_training_data_exp4.csv\")"
   ]
  },
  {
   "cell_type": "code",
   "execution_count": 7,
   "id": "8251c611-47b9-45db-9038-8e3854f9456f",
   "metadata": {},
   "outputs": [
    {
     "name": "stdout",
     "output_type": "stream",
     "text": [
      "Most Specific Hypothesis: ['Yes' '?' '?' '?']\n"
     ]
    }
   ],
   "source": [
    "def find_s_algorithm(data):\n",
    "    attributes = data.iloc[:, :-1].values\n",
    "    target = data.iloc[:, -1].values\n",
    "    for i in range(len(target)):\n",
    "        if target[i] == \"Yes\":\n",
    "            hypothesis = attributes[i].copy()\n",
    "            break\n",
    "    for i in range(len(target)):\n",
    "        if target[i] == \"Yes\":\n",
    "            for j in range(len(hypothesis)):\n",
    "                if hypothesis[j] != attributes[i][j]:\n",
    "                    hypothesis[j] = '?'\n",
    "    return hypothesis\n",
    "\n",
    "final_hypothesis = find_s_algorithm(data)\n",
    "print(\"Most Specific Hypothesis:\", final_hypothesis)"
   ]
  },
  {
   "cell_type": "code",
   "execution_count": null,
   "id": "a099b5ba-501e-4e30-a56b-b35c1028f3f7",
   "metadata": {},
   "outputs": [],
   "source": []
  }
 ],
 "metadata": {
  "kernelspec": {
   "display_name": "Python 3 (ipykernel)",
   "language": "python",
   "name": "python3"
  },
  "language_info": {
   "codemirror_mode": {
    "name": "ipython",
    "version": 3
   },
   "file_extension": ".py",
   "mimetype": "text/x-python",
   "name": "python",
   "nbconvert_exporter": "python",
   "pygments_lexer": "ipython3",
   "version": "3.11.7"
  }
 },
 "nbformat": 4,
 "nbformat_minor": 5
}
